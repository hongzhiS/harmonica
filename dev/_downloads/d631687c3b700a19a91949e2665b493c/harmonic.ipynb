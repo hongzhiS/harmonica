{
  "cells": [
    {
      "cell_type": "code",
      "execution_count": null,
      "metadata": {
        "collapsed": false
      },
      "outputs": [],
      "source": [
        "%matplotlib inline"
      ]
    },
    {
      "cell_type": "markdown",
      "metadata": {},
      "source": [
        "\nGridding and upward continuation\n================================\n\nMost potential field surveys gather data along scattered and uneven flight\nlines or ground measurements. For a great number of applications we may need to\ninterpolate these data points onto a regular grid at a constant altitude.\nUpward-continuation is also a routine task for smoothing, noise attenuation,\nsource separation, etc.\n\nBoth tasks can be done simultaneously through an *equivalent layer*\n[Dampney1969]_. We will use :class:`harmonica.EQLHarmonic` to estimate the\ncoefficients of a set of point sources (the equivalent layer) that fit the\nobserved data. The fitted layer can then be used to predict data values\nwherever we want, like on a grid at a certain altitude. The sources for\n:class:`~harmonica.EQLHarmonic` in particular are placed one beneath each data\npoint at a constant relative depth from the elevation of the data point\nfollowing [Cooper2000]_.\n\nThe advantage of using an equivalent layer is that it takes into account the 3D\nnature of the observations, not just their horizontal positions. It also allows\ndata uncertainty to be taken into account and noise to be suppressed though the\nleast-squares fitting process. The main disadvantage is the increased\ncomputational load (both in terms of time and memory).\n\n"
      ]
    },
    {
      "cell_type": "code",
      "execution_count": null,
      "metadata": {
        "collapsed": false
      },
      "outputs": [],
      "source": [
        "import matplotlib.pyplot as plt\nimport numpy as np\nimport pyproj\nimport verde as vd\nimport harmonica as hm\n\n\n# Fetch the sample total-field magnetic anomaly data from Great Britain\ndata = hm.datasets.fetch_britain_magnetic()\n\n# Slice a smaller portion of the survey data to speed-up calculations for this\n# example\nregion = [-5.5, -4.7, 57.8, 58.5]\ninside = vd.inside((data.longitude, data.latitude), region)\ndata = data[inside]\nprint(\"Number of data points:\", data.shape[0])\nprint(\"Mean height of observations:\", data.altitude_m.mean())\n\n# Since this is a small area, we'll project our data and use Cartesian\n# coordinates\nprojection = pyproj.Proj(proj=\"merc\", lat_ts=data.latitude.mean())\neasting, northing = projection(data.longitude.values, data.latitude.values)\ncoordinates = (easting, northing, data.altitude_m)\n\n# Create the equivalent layer. We'll use the default point source configuration\n# at a constant relative depth beneath each observation point. The damping\n# parameter helps smooth the predicted data and ensure stability.\neql = hm.EQLHarmonic(relative_depth=1000, damping=1)\n\n# Fit the layer coefficients to the observed magnetic anomaly.\neql.fit(coordinates, data.total_field_anomaly_nt)\n\n# Evaluate the data fit by calculating an R\u00b2 score against the observed data.\n# This is a measure of how well layer the fits the data NOT how good the\n# interpolation will be.\nprint(\"R\u00b2 score:\", eql.score(coordinates, data.total_field_anomaly_nt))\n\n# Interpolate data on a regular grid with 500 m spacing. The interpolation\n# requires an extra coordinate (upward height). By passing in 1500 m, we're\n# effectively upward-continuing the data (mean flight height is 500 m).\ngrid = eql.grid(spacing=500, data_names=[\"magnetic_anomaly\"], extra_coords=1500)\n\n# The grid is a xarray.Dataset with values, coordinates, and metadata\nprint(\"\\nGenerated grid:\\n\", grid)\n\n# Plot original magnetic anomaly and the gridded and upward-continued version\nfig, (ax1, ax2) = plt.subplots(nrows=1, ncols=2, figsize=(12, 9), sharey=True)\n\n# Get the maximum absolute value between the original and gridded data so we\n# can use the same color scale for both plots and have 0 centered at the white\n# color.\nmaxabs = vd.maxabs(data.total_field_anomaly_nt, grid.magnetic_anomaly.values)\n\nax1.set_title(\"Observed magnetic anomaly data\")\ntmp = ax1.scatter(\n    easting,\n    northing,\n    c=data.total_field_anomaly_nt,\n    s=20,\n    vmin=-maxabs,\n    vmax=maxabs,\n    cmap=\"seismic\",\n)\nplt.colorbar(tmp, ax=ax1, label=\"nT\", pad=0.05, aspect=40, orientation=\"horizontal\")\nax1.set_xlim(easting.min(), easting.max())\nax1.set_ylim(northing.min(), northing.max())\n\nax2.set_title(\"Gridded and upward-continued\")\ntmp = grid.magnetic_anomaly.plot.pcolormesh(\n    ax=ax2,\n    add_colorbar=False,\n    add_labels=False,\n    vmin=-maxabs,\n    vmax=maxabs,\n    cmap=\"seismic\",\n)\nplt.colorbar(tmp, ax=ax2, label=\"nT\", pad=0.05, aspect=40, orientation=\"horizontal\")\nax2.set_xlim(easting.min(), easting.max())\nax2.set_ylim(northing.min(), northing.max())\n\nplt.tight_layout(pad=0)\nplt.show()"
      ]
    }
  ],
  "metadata": {
    "kernelspec": {
      "display_name": "Python 3",
      "language": "python",
      "name": "python3"
    },
    "language_info": {
      "codemirror_mode": {
        "name": "ipython",
        "version": 3
      },
      "file_extension": ".py",
      "mimetype": "text/x-python",
      "name": "python",
      "nbconvert_exporter": "python",
      "pygments_lexer": "ipython3",
      "version": "3.6.10"
    }
  },
  "nbformat": 4,
  "nbformat_minor": 0
}